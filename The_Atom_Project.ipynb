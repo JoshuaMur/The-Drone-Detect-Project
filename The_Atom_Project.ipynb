{
  "nbformat": 4,
  "nbformat_minor": 0,
  "metadata": {
    "colab": {
      "provenance": []
    },
    "kernelspec": {
      "name": "python3",
      "display_name": "Python 3"
    },
    "language_info": {
      "name": "python"
    },
    "accelerator": "GPU"
  },
  "cells": [
    {
      "cell_type": "markdown",
      "source": [
        "Train a custom object detection model"
      ],
      "metadata": {
        "id": "qMX-HRm4ePjx"
      }
    },
    {
      "cell_type": "markdown",
      "source": [
        "##Preparation Set up"
      ],
      "metadata": {
        "id": "D4jnrPyGe7GN"
      }
    },
    {
      "cell_type": "markdown",
      "source": [
        "Installation of dependencies"
      ],
      "metadata": {
        "id": "yRYQXpDKfFt8"
      }
    },
    {
      "cell_type": "code",
      "execution_count": null,
      "metadata": {
        "colab": {
          "base_uri": "https://localhost:8080/"
        },
        "id": "K3RMpwFnYplb",
        "outputId": "9d25ebea-f9b4-42f1-ff69-ed4715829499"
      },
      "outputs": [
        {
          "output_type": "stream",
          "name": "stdout",
          "text": [
            "\u001b[K     |████████████████████████████████| 617 kB 4.2 MB/s \n",
            "\u001b[K     |████████████████████████████████| 6.4 MB 50.7 MB/s \n",
            "\u001b[K     |████████████████████████████████| 234 kB 57.8 MB/s \n",
            "\u001b[K     |████████████████████████████████| 1.1 MB 58.1 MB/s \n",
            "\u001b[K     |████████████████████████████████| 1.2 MB 45.2 MB/s \n",
            "\u001b[K     |████████████████████████████████| 87 kB 6.8 MB/s \n",
            "\u001b[K     |████████████████████████████████| 596 kB 68.2 MB/s \n",
            "\u001b[K     |████████████████████████████████| 1.1 MB 54.2 MB/s \n",
            "\u001b[K     |████████████████████████████████| 120 kB 75.6 MB/s \n",
            "\u001b[K     |████████████████████████████████| 840 kB 61.6 MB/s \n",
            "\u001b[K     |████████████████████████████████| 3.4 MB 26.3 MB/s \n",
            "\u001b[K     |████████████████████████████████| 25.3 MB 3.7 MB/s \n",
            "\u001b[K     |████████████████████████████████| 1.1 MB 46.4 MB/s \n",
            "\u001b[K     |████████████████████████████████| 99 kB 7.8 MB/s \n",
            "\u001b[K     |████████████████████████████████| 352 kB 45.6 MB/s \n",
            "\u001b[K     |████████████████████████████████| 47.8 MB 61 kB/s \n",
            "\u001b[K     |████████████████████████████████| 462 kB 60.3 MB/s \n",
            "\u001b[K     |████████████████████████████████| 211 kB 36.8 MB/s \n",
            "\u001b[?25h  Building wheel for fire (setup.py) ... \u001b[?25l\u001b[?25hdone\n",
            "  Building wheel for py-cpuinfo (setup.py) ... \u001b[?25l\u001b[?25hdone\n",
            "\u001b[K     |████████████████████████████████| 1.1 MB 4.1 MB/s \n",
            "\u001b[?25h"
          ]
        }
      ],
      "source": [
        "!pip install -q tflite-model-maker-nightly\n",
        "!pip install -q tflite-support-nightly"
      ]
    },
    {
      "cell_type": "code",
      "source": [],
      "metadata": {
        "id": "We1n1x2CeE9I"
      },
      "execution_count": null,
      "outputs": []
    },
    {
      "cell_type": "markdown",
      "source": [
        "Importing the required packages"
      ],
      "metadata": {
        "id": "Wl4hrBaEfk6T"
      }
    },
    {
      "cell_type": "code",
      "source": [
        "import numpy as np\n",
        "import os\n",
        "\n",
        "from tflite_model_maker.config import ExportFormat, QuantizationConfig\n",
        "from tflite_model_maker import model_spec\n",
        "from tflite_model_maker import object_detector\n",
        "\n",
        "from tflite_support import metadata\n",
        "\n",
        "import tensorflow as tf\n",
        "assert tf.__version__.startswith('2')\n",
        "\n",
        "tf.get_logger().setLevel('ERROR')\n",
        "from absl import logging\n",
        "logging.set_verbosity(logging.ERROR)"
      ],
      "metadata": {
        "id": "xxJm25JhfpbC"
      },
      "execution_count": null,
      "outputs": []
    },
    {
      "cell_type": "markdown",
      "source": [
        "##Prepering the dataset"
      ],
      "metadata": {
        "id": "hNX1_zdfhIWo"
      }
    },
    {
      "cell_type": "markdown",
      "source": [
        "Explaine dataset: size and description"
      ],
      "metadata": {
        "id": "0ms82ZcOhe4o"
      }
    },
    {
      "cell_type": "code",
      "source": [
        "#Download the dataset here (path)\n",
        "#!wget https://drive.google.com/file/d/1necrNwpHu0XV7HEA7Za9UpHUpRcJGg1u/view?usp=sharing\n",
        "#!unzip -q android_figurine.zip"
      ],
      "metadata": {
        "id": "4C3OwlJlhE3n"
      },
      "execution_count": null,
      "outputs": []
    },
    {
      "cell_type": "markdown",
      "source": [
        "## Training the object detection model"
      ],
      "metadata": {
        "id": "SOTk4pUIh18w"
      }
    },
    {
      "cell_type": "markdown",
      "source": [
        "**Step 1: Load the dataset**\n",
        "\n",
        "\n",
        "*   Images train_data used to train the object detection model.\n",
        "*   Images in val_data used to check the model generalization to new images\n",
        "\n"
      ],
      "metadata": {
        "id": "c8JuIquHl9GN"
      }
    },
    {
      "cell_type": "code",
      "source": [
        "train_data = object_detector.DataLoader.from_pascal_voc(\n",
        "    'RoadDamage/train_',\n",
        "    'RoadDamage/train_',\n",
        "    ['RoadDamage',]\n",
        ")\n",
        "\n",
        "val_data = object_detector.DataLoader.from_pascal_voc(\n",
        "    'RoadDamage/validate',\n",
        "    'RoadDamage/validate',\n",
        "    ['RoadDamage',]\n",
        ")"
      ],
      "metadata": {
        "id": "TC8G8S25hyn8"
      },
      "execution_count": null,
      "outputs": []
    },
    {
      "cell_type": "markdown",
      "source": [
        "##**Step 2: Select a model architecture**\n",
        "EfficientDet-Lite[0-4] are a family of mobile/IoT-friendly object detection models from EffientDet architecture. Each different on the perfomance (Size, Latency ms, Average Precision)."
      ],
      "metadata": {
        "id": "64WE0uSYoPOX"
      }
    },
    {
      "cell_type": "code",
      "source": [
        "#spec = model_spec.get('efficientdet_lite0')\n",
        "#spec = model_spec.get('efficientdet_lite2')\n",
        "spec = model_spec.get('efficientdet_lite3')"
      ],
      "metadata": {
        "id": "9__ftCTMp55w"
      },
      "execution_count": null,
      "outputs": []
    },
    {
      "cell_type": "markdown",
      "source": [
        "##Step 3: Train the TensorFlow model with training data\n",
        "\n",
        "\n",
        "*   Set `epochs = 20`, to run 20 iterations the training set. Time to check the accuracy and stop validation loss `val_loss` stop decreasing to avoid overfitting\n",
        "*   Set `batch_size = 4` to devide the training steps into 4\n",
        "*   Set `train_whole_model = True` to fine-tune the whole model instead of just training the head layer to improve accuacy. The trade-off is: it may take longer to train.\n",
        "\n",
        "\n",
        "\n"
      ],
      "metadata": {
        "id": "JGYOVvxPqde5"
      }
    },
    {
      "cell_type": "code",
      "source": [
        "\"\"\"\n",
        "with detection_graph.as_default():\n",
        "       od_graph_def = tf.compat.v1.GraphDef()\n",
        "       with tf.compat.v1.gfile.GFile(PATH_TO_FROZEN_GRAPH, 'rb') as fid:\n",
        "           serialized_graph = fid.read()\n",
        "           od_graph_def.ParseFromString(serialized_graph)\n",
        "           tf.compat.v1.import_graph_def(od_graph_def, name='') \"\"\""
      ],
      "metadata": {
        "id": "8VcHnDE7n0xP"
      },
      "execution_count": null,
      "outputs": []
    },
    {
      "cell_type": "code",
      "source": [
        "model = object_detector.create(train_data, model_spec=spec, batch_size=4, train_whole_model=True, epochs=20, validation_data=val_data)"
      ],
      "metadata": {
        "id": "6GJJh8xsqWjr",
        "colab": {
          "base_uri": "https://localhost:8080/"
        },
        "outputId": "0d12878c-b6e0-4d27-debe-20066c2a9194"
      },
      "execution_count": null,
      "outputs": [
        {
          "output_type": "stream",
          "name": "stdout",
          "text": [
            "Epoch 1/20\n",
            "36/36 [==============================] - 552s 13s/step - det_loss: 1.6977 - cls_loss: 1.0808 - box_loss: 0.0123 - reg_l2_loss: 0.0926 - loss: 1.7902 - learning_rate: 0.0065 - gradient_norm: 1.1343 - val_det_loss: 1.6680 - val_cls_loss: 1.0229 - val_box_loss: 0.0129 - val_reg_l2_loss: 0.0925 - val_loss: 1.7605\n",
            "Epoch 2/20\n",
            "36/36 [==============================] - 495s 14s/step - det_loss: 1.3705 - cls_loss: 0.7932 - box_loss: 0.0115 - reg_l2_loss: 0.0926 - loss: 1.4630 - learning_rate: 0.0049 - gradient_norm: 3.1052 - val_det_loss: 1.3373 - val_cls_loss: 0.6927 - val_box_loss: 0.0129 - val_reg_l2_loss: 0.0926 - val_loss: 1.4298\n",
            "Epoch 3/20\n",
            "36/36 [==============================] - 487s 14s/step - det_loss: 1.1612 - cls_loss: 0.6142 - box_loss: 0.0109 - reg_l2_loss: 0.0926 - loss: 1.2537 - learning_rate: 0.0048 - gradient_norm: 3.4311 - val_det_loss: 1.3134 - val_cls_loss: 0.6812 - val_box_loss: 0.0126 - val_reg_l2_loss: 0.0926 - val_loss: 1.4060\n",
            "Epoch 4/20\n",
            "36/36 [==============================] - 496s 14s/step - det_loss: 1.0662 - cls_loss: 0.5483 - box_loss: 0.0104 - reg_l2_loss: 0.0926 - loss: 1.1588 - learning_rate: 0.0046 - gradient_norm: 3.5521 - val_det_loss: 1.2613 - val_cls_loss: 0.6511 - val_box_loss: 0.0122 - val_reg_l2_loss: 0.0926 - val_loss: 1.3539\n",
            "Epoch 5/20\n",
            "36/36 [==============================] - 501s 14s/step - det_loss: 1.0200 - cls_loss: 0.5264 - box_loss: 0.0099 - reg_l2_loss: 0.0926 - loss: 1.1126 - learning_rate: 0.0043 - gradient_norm: 3.4892 - val_det_loss: 1.1965 - val_cls_loss: 0.6141 - val_box_loss: 0.0116 - val_reg_l2_loss: 0.0926 - val_loss: 1.2891\n",
            "Epoch 6/20\n",
            "36/36 [==============================] - 499s 14s/step - det_loss: 0.9455 - cls_loss: 0.4912 - box_loss: 0.0091 - reg_l2_loss: 0.0926 - loss: 1.0381 - learning_rate: 0.0040 - gradient_norm: 3.4036 - val_det_loss: 1.0950 - val_cls_loss: 0.5496 - val_box_loss: 0.0109 - val_reg_l2_loss: 0.0926 - val_loss: 1.1876\n",
            "Epoch 7/20\n",
            "36/36 [==============================] - 517s 14s/step - det_loss: 0.9203 - cls_loss: 0.4802 - box_loss: 0.0088 - reg_l2_loss: 0.0926 - loss: 1.0129 - learning_rate: 0.0037 - gradient_norm: 3.4111 - val_det_loss: 1.0132 - val_cls_loss: 0.5110 - val_box_loss: 0.0100 - val_reg_l2_loss: 0.0926 - val_loss: 1.1058\n",
            "Epoch 8/20\n",
            "36/36 [==============================] - 486s 14s/step - det_loss: 0.9238 - cls_loss: 0.4875 - box_loss: 0.0087 - reg_l2_loss: 0.0926 - loss: 1.0164 - learning_rate: 0.0033 - gradient_norm: 3.8738 - val_det_loss: 1.0538 - val_cls_loss: 0.5296 - val_box_loss: 0.0105 - val_reg_l2_loss: 0.0926 - val_loss: 1.1464\n",
            "Epoch 9/20\n",
            "36/36 [==============================] - 489s 14s/step - det_loss: 0.8642 - cls_loss: 0.4578 - box_loss: 0.0081 - reg_l2_loss: 0.0926 - loss: 0.9568 - learning_rate: 0.0029 - gradient_norm: 3.2498 - val_det_loss: 0.9949 - val_cls_loss: 0.5019 - val_box_loss: 0.0099 - val_reg_l2_loss: 0.0926 - val_loss: 1.0876\n",
            "Epoch 10/20\n",
            "36/36 [==============================] - 521s 14s/step - det_loss: 0.8769 - cls_loss: 0.4613 - box_loss: 0.0083 - reg_l2_loss: 0.0926 - loss: 0.9695 - learning_rate: 0.0025 - gradient_norm: 3.4275 - val_det_loss: 1.0075 - val_cls_loss: 0.5028 - val_box_loss: 0.0101 - val_reg_l2_loss: 0.0926 - val_loss: 1.1001\n",
            "Epoch 11/20\n",
            "36/36 [==============================] - 496s 14s/step - det_loss: 0.8572 - cls_loss: 0.4630 - box_loss: 0.0079 - reg_l2_loss: 0.0926 - loss: 0.9498 - learning_rate: 0.0021 - gradient_norm: 3.8365 - val_det_loss: 0.9912 - val_cls_loss: 0.5073 - val_box_loss: 0.0097 - val_reg_l2_loss: 0.0926 - val_loss: 1.0838\n",
            "Epoch 12/20\n",
            "36/36 [==============================] - 481s 13s/step - det_loss: 0.8406 - cls_loss: 0.4539 - box_loss: 0.0077 - reg_l2_loss: 0.0926 - loss: 0.9333 - learning_rate: 0.0017 - gradient_norm: 3.5312 - val_det_loss: 1.0039 - val_cls_loss: 0.5213 - val_box_loss: 0.0097 - val_reg_l2_loss: 0.0926 - val_loss: 1.0966\n",
            "Epoch 13/20\n",
            "36/36 [==============================] - 483s 13s/step - det_loss: 0.8443 - cls_loss: 0.4598 - box_loss: 0.0077 - reg_l2_loss: 0.0926 - loss: 0.9369 - learning_rate: 0.0013 - gradient_norm: 3.9404 - val_det_loss: 0.9596 - val_cls_loss: 0.4861 - val_box_loss: 0.0095 - val_reg_l2_loss: 0.0926 - val_loss: 1.0522\n",
            "Epoch 14/20\n",
            "36/36 [==============================] - 489s 14s/step - det_loss: 0.8148 - cls_loss: 0.4418 - box_loss: 0.0075 - reg_l2_loss: 0.0926 - loss: 0.9074 - learning_rate: 9.6654e-04 - gradient_norm: 3.3592 - val_det_loss: 0.9546 - val_cls_loss: 0.4845 - val_box_loss: 0.0094 - val_reg_l2_loss: 0.0926 - val_loss: 1.0472\n",
            "Epoch 15/20\n",
            "36/36 [==============================] - 511s 14s/step - det_loss: 0.8676 - cls_loss: 0.4639 - box_loss: 0.0081 - reg_l2_loss: 0.0926 - loss: 0.9602 - learning_rate: 6.6309e-04 - gradient_norm: 4.0118 - val_det_loss: 0.9815 - val_cls_loss: 0.5056 - val_box_loss: 0.0095 - val_reg_l2_loss: 0.0926 - val_loss: 1.0741\n",
            "Epoch 16/20\n",
            "36/36 [==============================] - 486s 14s/step - det_loss: 0.8386 - cls_loss: 0.4534 - box_loss: 0.0077 - reg_l2_loss: 0.0926 - loss: 0.9312 - learning_rate: 4.0975e-04 - gradient_norm: 3.7458 - val_det_loss: 0.9515 - val_cls_loss: 0.4843 - val_box_loss: 0.0093 - val_reg_l2_loss: 0.0926 - val_loss: 1.0441\n",
            "Epoch 17/20\n",
            "36/36 [==============================] - 505s 14s/step - det_loss: 0.8446 - cls_loss: 0.4527 - box_loss: 0.0078 - reg_l2_loss: 0.0926 - loss: 0.9372 - learning_rate: 2.1342e-04 - gradient_norm: 3.6232 - val_det_loss: 0.9453 - val_cls_loss: 0.4812 - val_box_loss: 0.0093 - val_reg_l2_loss: 0.0926 - val_loss: 1.0379\n",
            "Epoch 18/20\n",
            "36/36 [==============================] - 487s 14s/step - det_loss: 0.8271 - cls_loss: 0.4504 - box_loss: 0.0075 - reg_l2_loss: 0.0926 - loss: 0.9197 - learning_rate: 7.9464e-05 - gradient_norm: 3.6178 - val_det_loss: 0.9460 - val_cls_loss: 0.4863 - val_box_loss: 0.0092 - val_reg_l2_loss: 0.0926 - val_loss: 1.0387\n",
            "Epoch 19/20\n",
            "36/36 [==============================] - 491s 14s/step - det_loss: 0.8169 - cls_loss: 0.4415 - box_loss: 0.0075 - reg_l2_loss: 0.0926 - loss: 0.9095 - learning_rate: 1.1534e-05 - gradient_norm: 3.7463 - val_det_loss: 0.9351 - val_cls_loss: 0.4812 - val_box_loss: 0.0091 - val_reg_l2_loss: 0.0926 - val_loss: 1.0278\n",
            "Epoch 20/20\n",
            "36/36 [==============================] - 513s 14s/step - det_loss: 0.8137 - cls_loss: 0.4466 - box_loss: 0.0073 - reg_l2_loss: 0.0926 - loss: 0.9063 - learning_rate: 1.1483e-05 - gradient_norm: 3.6331 - val_det_loss: 0.9303 - val_cls_loss: 0.4784 - val_box_loss: 0.0090 - val_reg_l2_loss: 0.0926 - val_loss: 1.0230\n"
          ]
        }
      ]
    },
    {
      "cell_type": "markdown",
      "source": [
        "##Step 4: Evaluate the model with the validation data.\n",
        "The evaluation metrics are same as COCO"
      ],
      "metadata": {
        "id": "qGiZ-YHXs4RO"
      }
    },
    {
      "cell_type": "code",
      "source": [
        "model.evaluate(val_data)"
      ],
      "metadata": {
        "id": "oroWq-3otJCi"
      },
      "execution_count": null,
      "outputs": []
    },
    {
      "cell_type": "markdown",
      "source": [
        "##Step 5: Export as a TensorFlow Lite model"
      ],
      "metadata": {
        "id": "areHBcsHthf5"
      }
    },
    {
      "cell_type": "code",
      "source": [
        "model.export(export_dir='.', tflite_filename = 'atom2.tflite')"
      ],
      "metadata": {
        "id": "62iJZ9LUuD_f"
      },
      "execution_count": null,
      "outputs": []
    },
    {
      "cell_type": "markdown",
      "source": [
        "##Step 6: Evaluate the TensorFlow Lite model"
      ],
      "metadata": {
        "id": "AggwjMcHuaCC"
      }
    },
    {
      "cell_type": "code",
      "source": [
        "model.evaluate_tflite('atom.tflite', val_data)"
      ],
      "metadata": {
        "id": "IWxLQ6t5ug5L",
        "colab": {
          "base_uri": "https://localhost:8080/"
        },
        "outputId": "e90d0901-7748-450c-b42f-863177f7dcab"
      },
      "execution_count": null,
      "outputs": [
        {
          "output_type": "stream",
          "name": "stdout",
          "text": [
            "15/15 [==============================] - 47s 3s/step\n",
            "\n"
          ]
        },
        {
          "output_type": "execute_result",
          "data": {
            "text/plain": [
              "{'AP': 0.09899021,\n",
              " 'AP50': 0.31143466,\n",
              " 'AP75': 0.023227543,\n",
              " 'AP_/RoadDamage': 0.09899021,\n",
              " 'APl': 0.10100878,\n",
              " 'APm': 0.0,\n",
              " 'APs': -1.0,\n",
              " 'ARl': 0.22417583,\n",
              " 'ARm': 0.0,\n",
              " 'ARmax1': 0.029032258,\n",
              " 'ARmax10': 0.18387097,\n",
              " 'ARmax100': 0.21935484,\n",
              " 'ARs': -1.0}"
            ]
          },
          "metadata": {},
          "execution_count": 24
        }
      ]
    },
    {
      "cell_type": "markdown",
      "source": [
        "##Step 7: Download the TFLite model"
      ],
      "metadata": {
        "id": "RTu0uhMGusqy"
      }
    },
    {
      "cell_type": "code",
      "source": [
        "from google.colab import files\n",
        "files.download('atom.tflite')"
      ],
      "metadata": {
        "id": "e3xhn4TZu1lK",
        "colab": {
          "base_uri": "https://localhost:8080/",
          "height": 17
        },
        "outputId": "5fde4708-0696-4537-d4c6-c37140b29a62"
      },
      "execution_count": null,
      "outputs": [
        {
          "output_type": "display_data",
          "data": {
            "text/plain": [
              "<IPython.core.display.Javascript object>"
            ],
            "application/javascript": [
              "\n",
              "    async function download(id, filename, size) {\n",
              "      if (!google.colab.kernel.accessAllowed) {\n",
              "        return;\n",
              "      }\n",
              "      const div = document.createElement('div');\n",
              "      const label = document.createElement('label');\n",
              "      label.textContent = `Downloading \"${filename}\": `;\n",
              "      div.appendChild(label);\n",
              "      const progress = document.createElement('progress');\n",
              "      progress.max = size;\n",
              "      div.appendChild(progress);\n",
              "      document.body.appendChild(div);\n",
              "\n",
              "      const buffers = [];\n",
              "      let downloaded = 0;\n",
              "\n",
              "      const channel = await google.colab.kernel.comms.open(id);\n",
              "      // Send a message to notify the kernel that we're ready.\n",
              "      channel.send({})\n",
              "\n",
              "      for await (const message of channel.messages) {\n",
              "        // Send a message to notify the kernel that we're ready.\n",
              "        channel.send({})\n",
              "        if (message.buffers) {\n",
              "          for (const buffer of message.buffers) {\n",
              "            buffers.push(buffer);\n",
              "            downloaded += buffer.byteLength;\n",
              "            progress.value = downloaded;\n",
              "          }\n",
              "        }\n",
              "      }\n",
              "      const blob = new Blob(buffers, {type: 'application/binary'});\n",
              "      const a = document.createElement('a');\n",
              "      a.href = window.URL.createObjectURL(blob);\n",
              "      a.download = filename;\n",
              "      div.appendChild(a);\n",
              "      a.click();\n",
              "      div.remove();\n",
              "    }\n",
              "  "
            ]
          },
          "metadata": {}
        },
        {
          "output_type": "display_data",
          "data": {
            "text/plain": [
              "<IPython.core.display.Javascript object>"
            ],
            "application/javascript": [
              "download(\"download_e5d85f33-3130-4bef-b6c7-ff672a031b4d\", \"atom.tflite\", 4444721)"
            ]
          },
          "metadata": {}
        }
      ]
    },
    {
      "cell_type": "code",
      "source": [],
      "metadata": {
        "id": "rDq7WL-3ehFO"
      },
      "execution_count": null,
      "outputs": []
    },
    {
      "cell_type": "markdown",
      "source": [],
      "metadata": {
        "id": "v5p2ZWaXvHQn"
      }
    }
  ]
}